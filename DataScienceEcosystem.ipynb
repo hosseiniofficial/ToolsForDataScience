{
 "cells": [
  {
   "cell_type": "markdown",
   "id": "62c5f324",
   "metadata": {},
   "source": [
    "# Data Science Tools and Ecosystem #"
   ]
  },
  {
   "cell_type": "markdown",
   "id": "4fd1087e",
   "metadata": {},
   "source": [
    "# In this notebook, Data Science Tools and Ecosystem are summarized #"
   ]
  },
  {
   "cell_type": "markdown",
   "id": "b9b45df3",
   "metadata": {},
   "source": [
    "# Some of the popular languages that Data Scientists use are: #\n",
    "\n",
    "1. Python\n",
    "2. SQL (Structured Query Language)\n",
    "3. R\n",
    "4. Julia\n",
    "5. JavaScript\n",
    "6. Scala\n",
    "7. Java\n",
    "8. Go\n",
    "9. MATLAB"
   ]
  },
  {
   "cell_type": "markdown",
   "id": "fa540735",
   "metadata": {},
   "source": [
    "# Some of the commonly used libraries used by Data Scientists include: #\n",
    "\n",
    "1. TensorFlow\n",
    "2. NumPy\n",
    "3. SciPy\n",
    "4. Pandas\n",
    "5. Matplotlib\n",
    "6. SciKit-Learn\n",
    "7. PyTorch"
   ]
  },
  {
   "cell_type": "markdown",
   "id": "c2d34258",
   "metadata": {},
   "source": [
    "|Data Science Tools|\n",
    "|:---:|\n",
    "|Spyder|\n",
    "|JupyterLab|\n",
    "|VS Code|"
   ]
  },
  {
   "cell_type": "markdown",
   "id": "66ba5660",
   "metadata": {},
   "source": [
    "### Below are a few examples of evaluating arithmetic expressions in Python ###"
   ]
  },
  {
   "cell_type": "code",
   "execution_count": 1,
   "id": "0b344ab4",
   "metadata": {},
   "outputs": [
    {
     "data": {
      "text/plain": [
       "17"
      ]
     },
     "execution_count": 1,
     "metadata": {},
     "output_type": "execute_result"
    }
   ],
   "source": [
    "#This is a simple arithmetic expression to multiply then add integers\n",
    "\n",
    "(3*4)+5"
   ]
  },
  {
   "cell_type": "code",
   "execution_count": 2,
   "id": "65b3258a",
   "metadata": {},
   "outputs": [
    {
     "data": {
      "text/plain": [
       "3.3333333333333335"
      ]
     },
     "execution_count": 2,
     "metadata": {},
     "output_type": "execute_result"
    }
   ],
   "source": [
    "#This will convert 200 minutes to hours by diving by 60\n",
    "\n",
    "200/60"
   ]
  },
  {
   "cell_type": "markdown",
   "id": "b376dcf1",
   "metadata": {},
   "source": [
    "**Objectives:**\n",
    "- Python\n",
    "- Julia\n",
    "- R\n",
    "- Scala\n",
    "- SQL (Structured Query Language)"
   ]
  },
  {
   "cell_type": "markdown",
   "id": "b9183b12",
   "metadata": {},
   "source": [
    "## Author ##\n",
    "Hassan Hosseini"
   ]
  },
  {
   "cell_type": "code",
   "execution_count": null,
   "id": "90ec2a78",
   "metadata": {},
   "outputs": [],
   "source": []
  }
 ],
 "metadata": {
  "kernelspec": {
   "display_name": "Python 3 (ipykernel)",
   "language": "python",
   "name": "python3"
  },
  "language_info": {
   "codemirror_mode": {
    "name": "ipython",
    "version": 3
   },
   "file_extension": ".py",
   "mimetype": "text/x-python",
   "name": "python",
   "nbconvert_exporter": "python",
   "pygments_lexer": "ipython3",
   "version": "3.11.2"
  }
 },
 "nbformat": 4,
 "nbformat_minor": 5
}
